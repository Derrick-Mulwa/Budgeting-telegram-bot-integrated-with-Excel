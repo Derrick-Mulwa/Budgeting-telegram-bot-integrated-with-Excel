{
 "cells": [
  {
   "cell_type": "code",
   "execution_count": 1,
   "id": "18b1aec9",
   "metadata": {},
   "outputs": [],
   "source": [
    "# !pip install openpyxl"
   ]
  },
  {
   "cell_type": "code",
   "execution_count": 2,
   "id": "5e9339c3",
   "metadata": {},
   "outputs": [],
   "source": [
    "import pandas as pd"
   ]
  },
  {
   "cell_type": "code",
   "execution_count": 3,
   "id": "b881b206",
   "metadata": {},
   "outputs": [],
   "source": [
    "budget = pd.ExcelFile(\"Bajetic.xlsx\")"
   ]
  },
  {
   "cell_type": "code",
   "execution_count": 4,
   "id": "a17b0e5e",
   "metadata": {},
   "outputs": [
    {
     "ename": "TypeError",
     "evalue": "parse() got multiple values for argument 'sheet_name'",
     "output_type": "error",
     "traceback": [
      "\u001b[1;31m---------------------------------------------------------------------------\u001b[0m",
      "\u001b[1;31mTypeError\u001b[0m                                 Traceback (most recent call last)",
      "Input \u001b[1;32mIn [4]\u001b[0m, in \u001b[0;36m<cell line: 1>\u001b[1;34m()\u001b[0m\n\u001b[1;32m----> 1\u001b[0m nov_budget_df \u001b[38;5;241m=\u001b[39m \u001b[43mbudget\u001b[49m\u001b[38;5;241;43m.\u001b[39;49m\u001b[43mparse\u001b[49m\u001b[43m(\u001b[49m\u001b[38;5;124;43m'\u001b[39;49m\u001b[38;5;124;43mTable11418\u001b[39;49m\u001b[38;5;124;43m'\u001b[39;49m\u001b[43m,\u001b[49m\u001b[43m \u001b[49m\u001b[43msheet_name\u001b[49m\u001b[38;5;241;43m=\u001b[39;49m\u001b[38;5;124;43m'\u001b[39;49m\u001b[38;5;124;43mNovember budget \u001b[39;49m\u001b[38;5;124;43m'\u001b[39;49m\u001b[43m)\u001b[49m\n\u001b[0;32m      3\u001b[0m nov_budget_df\n",
      "\u001b[1;31mTypeError\u001b[0m: parse() got multiple values for argument 'sheet_name'"
     ]
    }
   ],
   "source": [
    "nov_budget_df = budget.parse('Table11418', sheet_name='November budget ')\n",
    "\n",
    "nov_budget_df"
   ]
  },
  {
   "cell_type": "code",
   "execution_count": 5,
   "id": "126d21b2",
   "metadata": {},
   "outputs": [],
   "source": [
    "from openpyxl import load_workbook\n",
    "\n",
    "wb = load_workbook(filename = \"Bajetic.xlsx\")\n"
   ]
  },
  {
   "cell_type": "code",
   "execution_count": 6,
   "id": "c7ced132",
   "metadata": {},
   "outputs": [
    {
     "data": {
      "text/plain": [
       "['October budget',\n",
       " 'November budget ',\n",
       " 'December budget ',\n",
       " 'Long term ',\n",
       " 'Items']"
      ]
     },
     "execution_count": 6,
     "metadata": {},
     "output_type": "execute_result"
    }
   ],
   "source": [
    "wb.sheetnames"
   ]
  },
  {
   "cell_type": "code",
   "execution_count": 7,
   "id": "f93103ac",
   "metadata": {},
   "outputs": [
    {
     "data": {
      "text/plain": [
       "dict_keys(['Table11418', 'Table51519', 'Table71721'])"
      ]
     },
     "execution_count": 7,
     "metadata": {},
     "output_type": "execute_result"
    }
   ],
   "source": [
    "sheet = wb['November budget ']\n",
    "sheet.tables.keys()"
   ]
  },
  {
   "cell_type": "code",
   "execution_count": 8,
   "id": "43e48355",
   "metadata": {},
   "outputs": [
    {
     "data": {
      "text/plain": [
       "'A1:G6'"
      ]
     },
     "execution_count": 8,
     "metadata": {},
     "output_type": "execute_result"
    }
   ],
   "source": [
    "lookup_table = sheet.tables['Table11418']\n",
    "lookup_table.ref"
   ]
  },
  {
   "cell_type": "code",
   "execution_count": null,
   "id": "163ae532",
   "metadata": {},
   "outputs": [],
   "source": [
    "# Access the data in the table range\n",
    "data = sheet[lookup_table.ref]\n",
    "rows_list = []\n",
    "\n",
    "# Loop through each row and get the values in the cells\n",
    "for row in data:\n",
    "    # Get a list of all columns in each row\n",
    "    cols = []\n",
    "    for col in row:\n",
    "        cols.append(col.value)\n",
    "    rows_list.append(cols)\n",
    "\n",
    "# Create a pandas dataframe from the rows_list.\n",
    "# The first row is the column names\n",
    "df = pd.DataFrame(data=rows_list[1:], index=None, columns=rows_list[0])\n",
    "\n",
    "df"
   ]
  },
  {
   "cell_type": "code",
   "execution_count": null,
   "id": "50dd1743",
   "metadata": {},
   "outputs": [],
   "source": [
    "import openpyxl\n",
    "from openpyxl import load_workbook"
   ]
  },
  {
   "cell_type": "code",
   "execution_count": null,
   "id": "531232e6",
   "metadata": {},
   "outputs": [],
   "source": [
    "workbook = load_workbook(\"testing.xlsx\")\n",
    "worksheet = workbook[\"testing_sheet_1\"]\n",
    "UserDetails = worksheet.tables[\"UserDetails\"]\n",
    "LoanDetails = worksheet.tables[\"LoanDetails\"]"
   ]
  },
  {
   "cell_type": "code",
   "execution_count": null,
   "id": "85690da1",
   "metadata": {},
   "outputs": [],
   "source": [
    "worksheet['B7'] = 3\n",
    "worksheet['C7'] = 'Carlos'\n",
    "worksheet['D7'] = 'Gambino'\n",
    "worksheet['E7'] = 51\n",
    "worksheet['F7'] = 'Male'\n",
    "\n",
    "UserDetails.ref = 'B3:G6'\n"
   ]
  },
  {
   "cell_type": "code",
   "execution_count": null,
   "id": "0cc3939c",
   "metadata": {},
   "outputs": [],
   "source": []
  },
  {
   "cell_type": "code",
   "execution_count": null,
   "id": "e9785eb7",
   "metadata": {},
   "outputs": [],
   "source": [
    "import random"
   ]
  },
  {
   "cell_type": "code",
   "execution_count": null,
   "id": "dcc7dcd8",
   "metadata": {},
   "outputs": [],
   "source": [
    "workbook = load_workbook(\"testing.xlsx\")\n",
    "worksheet = workbook[\"testing_sheet_1\"]\n",
    "UserDetails = worksheet.tables[\"UserDetails\"]\n",
    "LoanDetails = worksheet.tables[\"LoanDetails\"]\n",
    "\n",
    "ref = UserDetails.ref\n",
    "\n",
    "names = ['Frank', 'Abagnale', 'Andrew', 'Cunanan', 'Ted', 'Kaczynski','Carl', 'Gugasian', 'Gerald', 'Blanchard', 'Rodney', 'Alcala']\n",
    "gender = ['Male', 'Female']\n",
    "last_row_number = ref[ref.index(\":\")+1:][[index for index, char in enumerate(ref[ref.index(\":\")+1:]) if char.isdigit()][0]:]\n",
    "last_entered_row = int(last_row_number)\n",
    "last_id_cell = worksheet.cell(row=last_entered_row, column=2)\n",
    "last_id = last_id_cell.value\n",
    "\n",
    "for i in range(20):\n",
    "    last_entered_row += 1\n",
    "    worksheet[f'B{last_entered_row}'] = last_user_id\n",
    "    worksheet[f'C{last_entered_row}'] = random.choice(names)\n",
    "    worksheet[f'D{last_entered_row}'] = random.choice(names)\n",
    "    worksheet[f'E{last_entered_row}'] = random.randint(15,59)\n",
    "    worksheet[f'F{last_entered_row}'] = random.choice(gender)\n",
    "    \n",
    "    last_user_id += 1\n",
    "    \n",
    "table_start = ref[:ref.index(\":\")+1]\n",
    "\n",
    "\n",
    "new_table_end_column = ref[ref.index(\":\")+1:][:[index for index, char in enumerate(ref[ref.index(\":\")+1:]) if char.isdigit()][0]]\n",
    "new_table_end_row = last_entered_row\n",
    "table_end = f'{new_table_end_column}{new_table_end_row}'\n",
    "\n",
    "new_table_ref = f'{table_start}{table_end}'\n",
    "\n",
    "UserDetails.ref = new_table_ref\n",
    "\n",
    "workbook.save(\"testing.xlsx\")"
   ]
  },
  {
   "cell_type": "code",
   "execution_count": null,
   "id": "459a1ec1",
   "metadata": {},
   "outputs": [],
   "source": [
    "ref"
   ]
  },
  {
   "cell_type": "code",
   "execution_count": null,
   "id": "d96aa680",
   "metadata": {},
   "outputs": [],
   "source": [
    "last_id_cell = worksheet.cell(row=last_entered_row, column=2)\n",
    "last_id = last_id_cell.value\n",
    "last_id"
   ]
  },
  {
   "cell_type": "code",
   "execution_count": null,
   "id": "3a9f70b7",
   "metadata": {},
   "outputs": [],
   "source": [
    "ref[ref.index(\":\")+1:]"
   ]
  },
  {
   "cell_type": "code",
   "execution_count": null,
   "id": "925c90dd",
   "metadata": {},
   "outputs": [],
   "source": [
    "ref[ref.index(\":\")+1:][[index for index, char in enumerate(ref[ref.index(\":\")+1:]) if char.isdigit()][0]:]"
   ]
  },
  {
   "cell_type": "code",
   "execution_count": null,
   "id": "93a85fac",
   "metadata": {},
   "outputs": [],
   "source": [
    "ref = 'B147:AZ212'"
   ]
  },
  {
   "cell_type": "code",
   "execution_count": null,
   "id": "9d2ab94e",
   "metadata": {},
   "outputs": [],
   "source": [
    "ref[:ref.index(\":\")+1]"
   ]
  },
  {
   "cell_type": "code",
   "execution_count": null,
   "id": "2fc428db",
   "metadata": {},
   "outputs": [],
   "source": []
  }
 ],
 "metadata": {
  "kernelspec": {
   "display_name": "Python 3 (ipykernel)",
   "language": "python",
   "name": "python3"
  },
  "language_info": {
   "codemirror_mode": {
    "name": "ipython",
    "version": 3
   },
   "file_extension": ".py",
   "mimetype": "text/x-python",
   "name": "python",
   "nbconvert_exporter": "python",
   "pygments_lexer": "ipython3",
   "version": "3.9.12"
  }
 },
 "nbformat": 4,
 "nbformat_minor": 5
}
